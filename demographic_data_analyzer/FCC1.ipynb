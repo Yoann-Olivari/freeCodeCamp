{
 "cells": [
  {
   "cell_type": "code",
   "execution_count": 1,
   "id": "c7fd08f1",
   "metadata": {},
   "outputs": [],
   "source": [
    "import numpy as np"
   ]
  },
  {
   "cell_type": "code",
   "execution_count": 70,
   "id": "39292efc",
   "metadata": {},
   "outputs": [],
   "source": [
    "def calculate(list):\n",
    "    if len(list) != 9:\n",
    "        raise ValueError(\"List must contain nine numbers.\")\n",
    "    \n",
    "    # list -> np.array Reshape (3,3)\n",
    "    df = np.array(list).reshape(3, 3)\n",
    "    res = {}\n",
    "    # Calcul\n",
    "    res['mean'] = [(df.mean(axis = 0)).tolist(), (df.mean(axis = 1)).tolist(), df.mean()]\n",
    "    res['variance'] = [(df.var(axis = 0)).tolist(), (df.var(axis = 1)).tolist(), df.var()]\n",
    "    res['standard deviation'] = [(df.std(axis = 0)).tolist(), (df.std(axis = 1)).tolist(), df.std()]\n",
    "    res['max'] = [(df.max(axis = 0)).tolist(), (df.max(axis = 1)).tolist(), df.max()]\n",
    "    res['min'] = [(df.min(axis = 0)).tolist(), (df.min(axis = 1)).tolist(), df.min()]\n",
    "    res['sum'] = [(df.sum(axis = 0)).tolist(), (df.sum(axis = 1)).tolist(), df.sum()]\n",
    "    \n",
    "    return res\n",
    "\n",
    "print(calculate([0,1,2,3,4,5,6,7,8]))"
   ]
  },
  {
   "cell_type": "code",
   "execution_count": null,
   "id": "ae4df997",
   "metadata": {},
   "outputs": [],
   "source": []
  },
  {
   "cell_type": "code",
   "execution_count": null,
   "id": "0845d052",
   "metadata": {},
   "outputs": [],
   "source": []
  },
  {
   "cell_type": "code",
   "execution_count": null,
   "id": "6661fc67",
   "metadata": {},
   "outputs": [],
   "source": []
  }
 ],
 "metadata": {
  "kernelspec": {
   "display_name": "Python 3 (ipykernel)",
   "language": "python",
   "name": "python3"
  },
  "language_info": {
   "codemirror_mode": {
    "name": "ipython",
    "version": 3
   },
   "file_extension": ".py",
   "mimetype": "text/x-python",
   "name": "python",
   "nbconvert_exporter": "python",
   "pygments_lexer": "ipython3",
   "version": "3.9.12"
  }
 },
 "nbformat": 4,
 "nbformat_minor": 5
}
